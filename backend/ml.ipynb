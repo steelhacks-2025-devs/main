{
 "cells": [
  {
   "cell_type": "markdown",
   "id": "c12c27ca",
   "metadata": {},
   "source": [
    "## Imports"
   ]
  },
  {
   "cell_type": "code",
   "execution_count": null,
   "id": "65ed9db8",
   "metadata": {},
   "outputs": [],
   "source": [
    "import pandas as pd\n",
    "import numpy as np\n",
    "import matplotlib.pyplot as plt\n",
    "from sklearn.cluster import KMeans"
   ]
  },
  {
   "cell_type": "markdown",
   "id": "1b79088d",
   "metadata": {},
   "source": [
    "## Metrics being used"
   ]
  },
  {
   "cell_type": "code",
   "execution_count": null,
   "id": "8037c0bd",
   "metadata": {},
   "outputs": [],
   "source": [
    "metrics = [\n",
    "    'walk_score',\n",
    "    'price',\n",
    "    'medical_proximity',\n",
    "    'grocery_proximity',\n",
    "    'park_proximity',\n",
    "    'entertainment_proximity',\n",
    "    'is_senior_living'\n",
    "]"
   ]
  },
  {
   "cell_type": "markdown",
   "id": "ff029b7d",
   "metadata": {},
   "source": [
    "## DataFrame with Necessary Features"
   ]
  },
  {
   "cell_type": "code",
   "execution_count": null,
   "id": "942e80e7",
   "metadata": {},
   "outputs": [],
   "source": [
    "df = ... #TODO: Collect data to cluster! Define DataFrame!"
   ]
  },
  {
   "cell_type": "markdown",
   "id": "09e35e54",
   "metadata": {},
   "source": [
    "## K-Means Clustering"
   ]
  },
  {
   "cell_type": "code",
   "execution_count": null,
   "id": "7c194c42",
   "metadata": {},
   "outputs": [],
   "source": [
    "# Perform K-Means clustering\n",
    "kmeans = KMeans(n_clusters=4).fit(data) #TODO: Choose n_clusters!\n",
    "\n",
    "#TODO: Have DataFrame of predictive features, add cluster labels\n",
    "df['cluster'] = kmeans.labels_\n",
    "\n",
    "# Find averages of each feature that falls under each cluster to understand categories\n",
    "cluster_summary = df.groupby('cluster').mean()\n",
    "print(cluster_summary)"
   ]
  },
  {
   "cell_type": "markdown",
   "id": "d9d50c01",
   "metadata": {},
   "source": [
    "## Map: Clusters -> Categories"
   ]
  },
  {
   "cell_type": "code",
   "execution_count": null,
   "id": "97d8c6ee",
   "metadata": {},
   "outputs": [],
   "source": [
    "# Mapping dictionary\n",
    "# Example:\n",
    "category_mapping = {\n",
    "    0: 'Walkable & Affordable',\n",
    "    1: 'Access to Medical Care' # ... etc\n",
    "}\n",
    "\n",
    "# Assign categoires based on determined cluster categories\n",
    "df['category'] = df['cluster'].map(category_mapping)\n",
    "\n",
    "df = df.drop('cluster', axis=1)"
   ]
  },
  {
   "cell_type": "markdown",
   "id": "b150b96c",
   "metadata": {},
   "source": [
    "## Follow-Up Work"
   ]
  },
  {
   "cell_type": "code",
   "execution_count": null,
   "id": "4d8f8b9b",
   "metadata": {},
   "outputs": [],
   "source": [
    "df.head()"
   ]
  }
 ],
 "metadata": {
  "language_info": {
   "name": "python"
  }
 },
 "nbformat": 4,
 "nbformat_minor": 5
}
