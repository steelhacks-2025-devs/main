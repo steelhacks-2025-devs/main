{
 "cells": [
  {
   "cell_type": "markdown",
   "id": "9b9f0f49",
   "metadata": {},
   "source": [
    "# K-Means Clustering (scrapped for PCA)\n",
    "\n"
   ]
  },
  {
   "cell_type": "markdown",
   "id": "c12c27ca",
   "metadata": {},
   "source": [
    "## Imports"
   ]
  },
  {
   "cell_type": "code",
   "execution_count": 4,
   "id": "65ed9db8",
   "metadata": {},
   "outputs": [],
   "source": [
    "import pandas as pd\n",
    "import numpy as np\n",
    "import matplotlib.pyplot as plt\n",
    "from sklearn.cluster import KMeans\n",
    "import os"
   ]
  },
  {
   "cell_type": "markdown",
   "id": "1b79088d",
   "metadata": {},
   "source": [
    "## Examples of metrics that could be used\n",
    "\n"
   ]
  },
  {
   "cell_type": "code",
   "execution_count": null,
   "id": "8037c0bd",
   "metadata": {},
   "outputs": [],
   "source": [
    "metrics = [\n",
    "    'walk_score',\n",
    "    'price', # FAIRMARKETTOTAL\n",
    "    'medical_proximity',\n",
    "    'grocery_proximity',\n",
    "    'park_proximity',\n",
    "    'entertainment_proximity',\n",
    "    'is_senior_living'\n",
    "]"
   ]
  },
  {
   "cell_type": "markdown",
   "id": "ff029b7d",
   "metadata": {},
   "source": [
    "## DataFrame with Necessary Data and Features"
   ]
  },
  {
   "cell_type": "code",
   "execution_count": 23,
   "id": "942e80e7",
   "metadata": {},
   "outputs": [
    {
     "data": {
      "text/html": [
       "<div>\n",
       "<style scoped>\n",
       "    .dataframe tbody tr th:only-of-type {\n",
       "        vertical-align: middle;\n",
       "    }\n",
       "\n",
       "    .dataframe tbody tr th {\n",
       "        vertical-align: top;\n",
       "    }\n",
       "\n",
       "    .dataframe thead th {\n",
       "        text-align: right;\n",
       "    }\n",
       "</style>\n",
       "<table border=\"1\" class=\"dataframe\">\n",
       "  <thead>\n",
       "    <tr style=\"text-align: right;\">\n",
       "      <th></th>\n",
       "      <th>STORIES</th>\n",
       "      <th>CONDITION</th>\n",
       "      <th>TOTALROOMS</th>\n",
       "      <th>FINISHEDLIVINGAREA</th>\n",
       "    </tr>\n",
       "    <tr>\n",
       "      <th>PROPERTYADDRESS</th>\n",
       "      <th></th>\n",
       "      <th></th>\n",
       "      <th></th>\n",
       "      <th></th>\n",
       "    </tr>\n",
       "  </thead>\n",
       "  <tbody>\n",
       "    <tr>\n",
       "      <th>920 ROTHPLETZ ST</th>\n",
       "      <td>2.0</td>\n",
       "      <td>3.0</td>\n",
       "      <td>8.0</td>\n",
       "      <td>1460.0</td>\n",
       "    </tr>\n",
       "    <tr>\n",
       "      <th>3343 HARBISON ST</th>\n",
       "      <td>1.0</td>\n",
       "      <td>3.0</td>\n",
       "      <td>5.0</td>\n",
       "      <td>918.0</td>\n",
       "    </tr>\n",
       "    <tr>\n",
       "      <th>3547 CALIFORNIA AVE</th>\n",
       "      <td>2.0</td>\n",
       "      <td>3.0</td>\n",
       "      <td>10.0</td>\n",
       "      <td>4598.0</td>\n",
       "    </tr>\n",
       "    <tr>\n",
       "      <th>1325 GEYER AVE</th>\n",
       "      <td>2.0</td>\n",
       "      <td>3.0</td>\n",
       "      <td>7.0</td>\n",
       "      <td>1910.0</td>\n",
       "    </tr>\n",
       "    <tr>\n",
       "      <th>3457 MCCLURE AVE</th>\n",
       "      <td>2.0</td>\n",
       "      <td>3.0</td>\n",
       "      <td>6.0</td>\n",
       "      <td>1673.0</td>\n",
       "    </tr>\n",
       "  </tbody>\n",
       "</table>\n",
       "</div>"
      ],
      "text/plain": [
       "                     STORIES  CONDITION  TOTALROOMS  FINISHEDLIVINGAREA\n",
       "PROPERTYADDRESS                                                        \n",
       "920 ROTHPLETZ ST         2.0        3.0         8.0              1460.0\n",
       "3343 HARBISON ST         1.0        3.0         5.0               918.0\n",
       "3547 CALIFORNIA AVE      2.0        3.0        10.0              4598.0\n",
       "1325 GEYER AVE           2.0        3.0         7.0              1910.0\n",
       "3457 MCCLURE AVE         2.0        3.0         6.0              1673.0"
      ]
     },
     "execution_count": 23,
     "metadata": {},
     "output_type": "execute_result"
    }
   ],
   "source": [
    "# Get csv file path\n",
    "BASE_DIR = os.path.dirname(os.getcwd())\n",
    "cluster_csv = os.path.join(BASE_DIR, 'backend', 'datasets', 'finalpt5.csv')\n",
    "\n",
    "# Convert csv file to a DataFrame\n",
    "df = pd.read_csv(cluster_csv)\n",
    "df = df.set_index('PROPERTYADDRESS')\n",
    "\n",
    "df = df[['STORIES', 'CONDITION', 'TOTALROOMS', 'FINISHEDLIVINGAREA']]\n",
    "df.head()"
   ]
  },
  {
   "cell_type": "markdown",
   "id": "09e35e54",
   "metadata": {},
   "source": [
    "## K-Means Clustering"
   ]
  },
  {
   "cell_type": "code",
   "execution_count": 28,
   "id": "7c194c42",
   "metadata": {},
   "outputs": [
    {
     "name": "stdout",
     "output_type": "stream",
     "text": [
      "          STORIES  CONDITION  TOTALROOMS  FINISHEDLIVINGAREA\n",
      "cluster                                                     \n",
      "0        1.756759   3.259618    5.567609         1250.834295\n",
      "1        2.099275   3.224451    7.339082         2170.721639\n",
      "2        2.298679   3.134242    9.971234         3982.784573\n"
     ]
    }
   ],
   "source": [
    "# Perform K-Means clustering\n",
    "kmeans = KMeans(n_clusters=3).fit(df)\n",
    "\n",
    "#TODO: Have DataFrame of predictive features, add cluster labels\n",
    "df['cluster'] = kmeans.labels_\n",
    "\n",
    "# Find averages of each feature that falls under each cluster to understand categories\n",
    "cluster_summary = df.groupby('cluster').mean()\n",
    "print(cluster_summary)"
   ]
  },
  {
   "cell_type": "markdown",
   "id": "d9d50c01",
   "metadata": {},
   "source": [
    "## Map: Clusters -> Categories"
   ]
  },
  {
   "cell_type": "code",
   "execution_count": 29,
   "id": "97d8c6ee",
   "metadata": {},
   "outputs": [],
   "source": [
    "# Mapping dictionary\n",
    "# Example:\n",
    "category_mapping = {\n",
    "    0: 'Small',\n",
    "    1: 'Medium',\n",
    "    2: 'Large'\n",
    "}\n",
    "\n",
    "# Assign categoires based on determined cluster categories\n",
    "df['category'] = df['cluster'].map(category_mapping)\n",
    "\n",
    "# Remove cluster label column (numeric labels)\n",
    "df = df.drop('cluster', axis=1)"
   ]
  },
  {
   "cell_type": "markdown",
   "id": "b150b96c",
   "metadata": {},
   "source": [
    "## Export Categorized Data"
   ]
  },
  {
   "cell_type": "code",
   "execution_count": 31,
   "id": "4d8f8b9b",
   "metadata": {},
   "outputs": [],
   "source": [
    "\n",
    "# Create pkl file path\n",
    "BASE_DIR = os.path.dirname(os.getcwd())\n",
    "categorized_pkl = os.path.join(BASE_DIR, 'backend', 'datasets', 'output_categorized_data.pkl')\n",
    "\n",
    "# Output DataFrame to a pkl file\n",
    "df.to_csv(categorized_pkl)"
   ]
  }
 ],
 "metadata": {
  "kernelspec": {
   "display_name": "Python 3",
   "language": "python",
   "name": "python3"
  },
  "language_info": {
   "codemirror_mode": {
    "name": "ipython",
    "version": 3
   },
   "file_extension": ".py",
   "mimetype": "text/x-python",
   "name": "python",
   "nbconvert_exporter": "python",
   "pygments_lexer": "ipython3",
   "version": "3.12.6"
  }
 },
 "nbformat": 4,
 "nbformat_minor": 5
}
